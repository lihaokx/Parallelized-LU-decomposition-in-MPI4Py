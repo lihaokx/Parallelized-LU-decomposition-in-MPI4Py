{
 "cells": [
  {
   "cell_type": "code",
   "execution_count": 5,
   "metadata": {},
   "outputs": [
    {
     "name": "stdout",
     "output_type": "stream",
     "text": [
      "Overwriting Q1a.py\n"
     ]
    }
   ],
   "source": [
    "%%file Q1a.py\n",
    "import numpy as np\n",
    "import math\n",
    "from mpi4py import MPI\n",
    "comm = MPI.COMM_WORLD\n",
    "rank = comm.rank\n",
    "size = comm.size\n",
    "A = [[1,1,0,3] ,[2,1,-1,1] ,[3,-1,-2,2] ,[-1,2,3,-1]]\n",
    "\n",
    "n = len(A)\n",
    "# Pset is the row a cpu stores\n",
    "if rank ==0:\n",
    "    Pset = {0,2}\n",
    "if rank ==1:\n",
    "    Pset = {1,3}\n",
    "numP = 2\n",
    "# start LU decomposition\n",
    "for k in range(n):\n",
    "    if k in Pset:\n",
    "        # send the data of current cpu to the rest of cpus\n",
    "        for p in range(numP):\n",
    "            if p!= rank:\n",
    "                comm.send(A[k], dest=p, tag=11)\n",
    "    else:\n",
    "        A[k] = comm.recv(source=k%numP, tag=11)\n",
    "    for i in range(k+1,n):\n",
    "        if i in Pset:\n",
    "            A[i][k] = A[i][k]/A[k][k]\n",
    "            for j in range(k+1, n):\n",
    "                A[i][j] = A[i][j]-A[i][k]*A[k][j]\n",
    "if rank ==0:\n",
    "    print(str(A[0])+'\\n'+str(A[1])+'\\n'+str(A[2])+'\\n'+str(A[3])+'\\n')"
   ]
  },
  {
   "cell_type": "code",
   "execution_count": 6,
   "metadata": {},
   "outputs": [
    {
     "name": "stdout",
     "output_type": "stream",
     "text": [
      "[1, 1, 0, 3]\n",
      "[2.0, -1.0, -1.0, -5.0]\n",
      "[3.0, 4.0, 2.0, 13.0]\n",
      "[-1.0, -3.0, 0.0, -13.0]\n",
      "\n"
     ]
    }
   ],
   "source": [
    "!mpiexec -np 2 python Q1a.py"
   ]
  },
  {
   "cell_type": "code",
   "execution_count": null,
   "metadata": {},
   "outputs": [],
   "source": []
  },
  {
   "cell_type": "code",
   "execution_count": null,
   "metadata": {},
   "outputs": [],
   "source": []
  },
  {
   "cell_type": "code",
   "execution_count": null,
   "metadata": {},
   "outputs": [],
   "source": []
  }
 ],
 "metadata": {
  "kernelspec": {
   "display_name": "Python 3",
   "language": "python",
   "name": "python3"
  },
  "language_info": {
   "codemirror_mode": {
    "name": "ipython",
    "version": 3
   },
   "file_extension": ".py",
   "mimetype": "text/x-python",
   "name": "python",
   "nbconvert_exporter": "python",
   "pygments_lexer": "ipython3",
   "version": "3.8.3"
  }
 },
 "nbformat": 4,
 "nbformat_minor": 4
}
