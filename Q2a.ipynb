{
 "cells": [
  {
   "cell_type": "code",
   "execution_count": 31,
   "metadata": {},
   "outputs": [
    {
     "name": "stdout",
     "output_type": "stream",
     "text": [
      "Overwriting Q2a.py\n"
     ]
    }
   ],
   "source": [
    "%%file Q2a.py\n",
    "import numpy as np\n",
    "import math\n",
    "from mpi4py import MPI\n",
    "from  time import time\n",
    "comm = MPI.COMM_WORLD\n",
    "rank = comm.rank\n",
    "size = comm.size\n",
    "\n",
    "### change the numbe of n which varies from 10, 100, 200, 500, 1000\n",
    "n = 10\n",
    "A =(n-1)* np.identity(n)+ np.ones([n,n])\n",
    "numP = size # the number of processors\n",
    "rows_per_core = n/numP # the number of rows of each core\n",
    "b =np.ones([n,1])\n",
    "\n",
    "# start LU decomposition\n",
    "def LuDecomposition(A,n,rank,numP):\n",
    "    for k in range(n):    \n",
    "        comm.Bcast(A[k], root= k%numP)  \n",
    "        for i in range(rank+ int((k-rank+numP)/numP)*numP,n, numP):\n",
    "            A[i][k] = A[i][k]/A[k][k]\n",
    "            for j in range(k+1, n):\n",
    "                A[i][j] = A[i][j]-A[i][k]*A[k][j]\n",
    "    return A\n",
    "\n",
    "# start forward\n",
    "def Forward(LU,n,rank,numP, b):\n",
    "    # initialize the y\n",
    "    y =np.zeros([n,1])\n",
    "    \n",
    "    for k in range(n):\n",
    "        if k%numP ==rank :\n",
    "            y[k][0] = b[k][0]/1.0\n",
    "        #after calculate the  y[k][0], broadcast it to the other cores\n",
    "        comm.Bcast(y[k], root= k%numP)\n",
    "        \n",
    "        # calculate the value of b[i][0] within the cores who is responsible for the their rows. \n",
    "        for i in range(rank+ int((k-rank+numP)/numP)*numP,n, numP):\n",
    "            b[i][0] = b[i][0]- LU[i][k]*y[k][0]\n",
    "\n",
    "    return y\n",
    "        \n",
    "# start Backward\n",
    "def Backward(LU,n,rank,numP, y, rows_per_core):\n",
    "    x =np.zeros([n,1])\n",
    "    for k in range(n-1, -1, -1):\n",
    "        if k%numP ==rank :\n",
    "            x[k][0] = y[k][0]/LU[k][k]\n",
    "        #after calculate the x[k][0], broadcast it to the other cores\n",
    "        comm.Bcast(x[k], root= k%numP)    \n",
    "        \n",
    "        # calculate the value of y[i][0] within the cores who is responsible for the their rows. \n",
    "        for i in range(int(rank +numP*(rows_per_core-1) - int((n-k+rank)/numP)*numP), -1, -numP ):\n",
    "            y[i][0] = y[i][0]- LU[i][k]*x[k][0]\n",
    "    return x\n",
    "\n",
    "# start time\n",
    "comm.Barrier();start = MPI.Wtime()    \n",
    "lu = LuDecomposition(A,n,rank,numP)\n",
    "y = Forward(lu,n,rank,numP, b)\n",
    "x = Backward(lu,n,rank,numP, y, rows_per_core)\n",
    "\n",
    "#end time\n",
    "comm.Barrier();end = MPI.Wtime()\n",
    "\n",
    "if rank ==0:\n",
    "    print(\"The total time is: \"+str(end-start)+'\\n' +'\\n' )\n",
    "      \n",
    "if rank ==0:\n",
    "    print('The result of x is shown as follows: ' +'\\n')\n",
    "    for i in range(n):\n",
    "        print(str(x[i][0])+'\\n' )\n"
   ]
  },
  {
   "cell_type": "code",
   "execution_count": 32,
   "metadata": {},
   "outputs": [
    {
     "name": "stdout",
     "output_type": "stream",
     "text": [
      "The total time is: 0.0008880000095814466\n",
      "\n",
      "\n",
      "The result of x is shown as follows: \n",
      "\n",
      "0.05263157894736842\n",
      "\n",
      "0.05263157894736839\n",
      "\n",
      "0.052631578947368425\n",
      "\n",
      "0.05263157894736841\n",
      "\n",
      "0.05263157894736842\n",
      "\n",
      "0.052631578947368404\n",
      "\n",
      "0.052631578947368425\n",
      "\n",
      "0.05263157894736843\n",
      "\n",
      "0.052631578947368425\n",
      "\n",
      "0.05263157894736842\n",
      "\n"
     ]
    }
   ],
   "source": [
    "!mpiexec -np 2 python Q2a.py"
   ]
  },
  {
   "cell_type": "code",
   "execution_count": null,
   "metadata": {},
   "outputs": [],
   "source": []
  }
 ],
 "metadata": {
  "kernelspec": {
   "display_name": "Python 3",
   "language": "python",
   "name": "python3"
  },
  "language_info": {
   "codemirror_mode": {
    "name": "ipython",
    "version": 3
   },
   "file_extension": ".py",
   "mimetype": "text/x-python",
   "name": "python",
   "nbconvert_exporter": "python",
   "pygments_lexer": "ipython3",
   "version": "3.8.3"
  }
 },
 "nbformat": 4,
 "nbformat_minor": 4
}
