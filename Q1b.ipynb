{
 "cells": [
  {
   "cell_type": "code",
   "execution_count": 3,
   "metadata": {},
   "outputs": [
    {
     "name": "stdout",
     "output_type": "stream",
     "text": [
      "Overwriting Q1b.py\n"
     ]
    }
   ],
   "source": [
    "%%file Q1b.py\n",
    "import numpy as np\n",
    "import math\n",
    "from mpi4py import MPI\n",
    "comm = MPI.COMM_WORLD\n",
    "rank = comm.rank\n",
    "size = comm.size\n",
    "A = [[1,1,0,3] ,[2,1,-1,1] ,[3,-1,-2,2] ,[-1,2,3,-1]]\n",
    "X = [[4], [1], [-3], [4]]\n",
    "r = [[0], [0], [0], [0]]  # initialize the results\n",
    "n =len(A)\n",
    "for i in range(n):\n",
    "    if rank ==0:\n",
    "        r[i][0] =A[i][0]*X[0][0] + A[i][1]*X[1][0]  # calculate the first two columns \n",
    "        comm.send(r[i][0], dest=1, tag=11)   # send the result to the core 1\n",
    "    if rank ==1:\n",
    "        r[i][0] = comm.recv(source= 0, tag=11)  # receive the result from core 0\n",
    "        r[i][0] =A[i][2]*X[2][0] + A[i][3]*X[3][0]+r[i][0]   # calculate the second two columns \n",
    "if rank ==1:\n",
    "    print(str(r[0])+'\\n'+str(r[1])+'\\n'+str(r[2])+'\\n'+str(r[3])+'\\n')    \n",
    "    "
   ]
  },
  {
   "cell_type": "code",
   "execution_count": 4,
   "metadata": {},
   "outputs": [
    {
     "name": "stdout",
     "output_type": "stream",
     "text": [
      "[17]\n",
      "[16]\n",
      "[25]\n",
      "[-15]\n",
      "\n"
     ]
    }
   ],
   "source": [
    "!mpiexec -np 2 python Q1b.py"
   ]
  },
  {
   "cell_type": "code",
   "execution_count": null,
   "metadata": {},
   "outputs": [],
   "source": []
  }
 ],
 "metadata": {
  "kernelspec": {
   "display_name": "Python 3",
   "language": "python",
   "name": "python3"
  },
  "language_info": {
   "codemirror_mode": {
    "name": "ipython",
    "version": 3
   },
   "file_extension": ".py",
   "mimetype": "text/x-python",
   "name": "python",
   "nbconvert_exporter": "python",
   "pygments_lexer": "ipython3",
   "version": "3.8.3"
  }
 },
 "nbformat": 4,
 "nbformat_minor": 4
}
